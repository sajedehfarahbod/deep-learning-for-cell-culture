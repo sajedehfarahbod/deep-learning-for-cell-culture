{
  "cells": [
    {
      "cell_type": "markdown",
      "metadata": {
        "id": "view-in-github",
        "colab_type": "text"
      },
      "source": [
        "<a href=\"https://colab.research.google.com/github/sajedehfarahbod/deep-learning-for-cell-culture/blob/main/final_code.ipynb\" target=\"_parent\"><img src=\"https://colab.research.google.com/assets/colab-badge.svg\" alt=\"Open In Colab\"/></a>"
      ]
    },
    {
      "cell_type": "code",
      "execution_count": null,
      "metadata": {
        "id": "yr_L65AvJMCd"
      },
      "outputs": [],
      "source": [
        "import numpy as np\n",
        "import pandas as pd\n",
        "import matplotlib.pyplot as plt\n",
        "import seaborn as sns"
      ]
    },
    {
      "cell_type": "code",
      "source": [
        "import torch\n",
        "import torch.nn as nn\n",
        "import torch.optim as optim\n",
        "from sklearn.model_selection import train_test_split\n",
        "from sklearn.preprocessing import StandardScaler\n",
        "import pandas as pd\n",
        "import matplotlib.pyplot as plt\n",
        "from torch.utils.data import DataLoader, TensorDataset"
      ],
      "metadata": {
        "id": "vvNqEUaH9p3X"
      },
      "execution_count": null,
      "outputs": []
    },
    {
      "cell_type": "code",
      "execution_count": null,
      "metadata": {
        "id": "SPQNXxopJMyo",
        "colab": {
          "base_uri": "https://localhost:8080/",
          "height": 423
        },
        "outputId": "54b5b106-e642-411b-bd49-d99189978c24"
      },
      "outputs": [
        {
          "output_type": "execute_result",
          "data": {
            "text/plain": [
              "            Mu        Dl        Lb        Tcyc         YFP  schnitzNum\n",
              "0     2.212869  1.756951  2.035147   25.325000  106.822445          95\n",
              "1     2.145022  1.322694  2.725876   15.191667  110.307318          96\n",
              "2     2.187034  1.976408  1.908797   28.533333  108.416709          97\n",
              "3     1.902761  1.642699  2.023156   26.191667  115.020217         105\n",
              "4     2.288025  2.117081  2.064866   28.200000  117.617110         107\n",
              "...        ...       ...       ...         ...         ...         ...\n",
              "1214  0.575907  1.251254  1.131423  113.416667  442.308698        3037\n",
              "1215  1.135137  1.590728  1.171979   59.466667  226.018277        3120\n",
              "1216  1.217607  1.676881  1.575631   50.575000  146.294287        3122\n",
              "1217  0.759511  1.286445  1.253480   72.666667  475.679082        3123\n",
              "1218  0.906528  1.239162  1.464096   51.408333  244.597292        3152\n",
              "\n",
              "[1219 rows x 6 columns]"
            ],
            "text/html": [
              "\n",
              "  <div id=\"df-7c2f804e-3024-4f2e-abe5-c5538a5de7c0\" class=\"colab-df-container\">\n",
              "    <div>\n",
              "<style scoped>\n",
              "    .dataframe tbody tr th:only-of-type {\n",
              "        vertical-align: middle;\n",
              "    }\n",
              "\n",
              "    .dataframe tbody tr th {\n",
              "        vertical-align: top;\n",
              "    }\n",
              "\n",
              "    .dataframe thead th {\n",
              "        text-align: right;\n",
              "    }\n",
              "</style>\n",
              "<table border=\"1\" class=\"dataframe\">\n",
              "  <thead>\n",
              "    <tr style=\"text-align: right;\">\n",
              "      <th></th>\n",
              "      <th>Mu</th>\n",
              "      <th>Dl</th>\n",
              "      <th>Lb</th>\n",
              "      <th>Tcyc</th>\n",
              "      <th>YFP</th>\n",
              "      <th>schnitzNum</th>\n",
              "    </tr>\n",
              "  </thead>\n",
              "  <tbody>\n",
              "    <tr>\n",
              "      <th>0</th>\n",
              "      <td>2.212869</td>\n",
              "      <td>1.756951</td>\n",
              "      <td>2.035147</td>\n",
              "      <td>25.325000</td>\n",
              "      <td>106.822445</td>\n",
              "      <td>95</td>\n",
              "    </tr>\n",
              "    <tr>\n",
              "      <th>1</th>\n",
              "      <td>2.145022</td>\n",
              "      <td>1.322694</td>\n",
              "      <td>2.725876</td>\n",
              "      <td>15.191667</td>\n",
              "      <td>110.307318</td>\n",
              "      <td>96</td>\n",
              "    </tr>\n",
              "    <tr>\n",
              "      <th>2</th>\n",
              "      <td>2.187034</td>\n",
              "      <td>1.976408</td>\n",
              "      <td>1.908797</td>\n",
              "      <td>28.533333</td>\n",
              "      <td>108.416709</td>\n",
              "      <td>97</td>\n",
              "    </tr>\n",
              "    <tr>\n",
              "      <th>3</th>\n",
              "      <td>1.902761</td>\n",
              "      <td>1.642699</td>\n",
              "      <td>2.023156</td>\n",
              "      <td>26.191667</td>\n",
              "      <td>115.020217</td>\n",
              "      <td>105</td>\n",
              "    </tr>\n",
              "    <tr>\n",
              "      <th>4</th>\n",
              "      <td>2.288025</td>\n",
              "      <td>2.117081</td>\n",
              "      <td>2.064866</td>\n",
              "      <td>28.200000</td>\n",
              "      <td>117.617110</td>\n",
              "      <td>107</td>\n",
              "    </tr>\n",
              "    <tr>\n",
              "      <th>...</th>\n",
              "      <td>...</td>\n",
              "      <td>...</td>\n",
              "      <td>...</td>\n",
              "      <td>...</td>\n",
              "      <td>...</td>\n",
              "      <td>...</td>\n",
              "    </tr>\n",
              "    <tr>\n",
              "      <th>1214</th>\n",
              "      <td>0.575907</td>\n",
              "      <td>1.251254</td>\n",
              "      <td>1.131423</td>\n",
              "      <td>113.416667</td>\n",
              "      <td>442.308698</td>\n",
              "      <td>3037</td>\n",
              "    </tr>\n",
              "    <tr>\n",
              "      <th>1215</th>\n",
              "      <td>1.135137</td>\n",
              "      <td>1.590728</td>\n",
              "      <td>1.171979</td>\n",
              "      <td>59.466667</td>\n",
              "      <td>226.018277</td>\n",
              "      <td>3120</td>\n",
              "    </tr>\n",
              "    <tr>\n",
              "      <th>1216</th>\n",
              "      <td>1.217607</td>\n",
              "      <td>1.676881</td>\n",
              "      <td>1.575631</td>\n",
              "      <td>50.575000</td>\n",
              "      <td>146.294287</td>\n",
              "      <td>3122</td>\n",
              "    </tr>\n",
              "    <tr>\n",
              "      <th>1217</th>\n",
              "      <td>0.759511</td>\n",
              "      <td>1.286445</td>\n",
              "      <td>1.253480</td>\n",
              "      <td>72.666667</td>\n",
              "      <td>475.679082</td>\n",
              "      <td>3123</td>\n",
              "    </tr>\n",
              "    <tr>\n",
              "      <th>1218</th>\n",
              "      <td>0.906528</td>\n",
              "      <td>1.239162</td>\n",
              "      <td>1.464096</td>\n",
              "      <td>51.408333</td>\n",
              "      <td>244.597292</td>\n",
              "      <td>3152</td>\n",
              "    </tr>\n",
              "  </tbody>\n",
              "</table>\n",
              "<p>1219 rows × 6 columns</p>\n",
              "</div>\n",
              "    <div class=\"colab-df-buttons\">\n",
              "\n",
              "  <div class=\"colab-df-container\">\n",
              "    <button class=\"colab-df-convert\" onclick=\"convertToInteractive('df-7c2f804e-3024-4f2e-abe5-c5538a5de7c0')\"\n",
              "            title=\"Convert this dataframe to an interactive table.\"\n",
              "            style=\"display:none;\">\n",
              "\n",
              "  <svg xmlns=\"http://www.w3.org/2000/svg\" height=\"24px\" viewBox=\"0 -960 960 960\">\n",
              "    <path d=\"M120-120v-720h720v720H120Zm60-500h600v-160H180v160Zm220 220h160v-160H400v160Zm0 220h160v-160H400v160ZM180-400h160v-160H180v160Zm440 0h160v-160H620v160ZM180-180h160v-160H180v160Zm440 0h160v-160H620v160Z\"/>\n",
              "  </svg>\n",
              "    </button>\n",
              "\n",
              "  <style>\n",
              "    .colab-df-container {\n",
              "      display:flex;\n",
              "      gap: 12px;\n",
              "    }\n",
              "\n",
              "    .colab-df-convert {\n",
              "      background-color: #E8F0FE;\n",
              "      border: none;\n",
              "      border-radius: 50%;\n",
              "      cursor: pointer;\n",
              "      display: none;\n",
              "      fill: #1967D2;\n",
              "      height: 32px;\n",
              "      padding: 0 0 0 0;\n",
              "      width: 32px;\n",
              "    }\n",
              "\n",
              "    .colab-df-convert:hover {\n",
              "      background-color: #E2EBFA;\n",
              "      box-shadow: 0px 1px 2px rgba(60, 64, 67, 0.3), 0px 1px 3px 1px rgba(60, 64, 67, 0.15);\n",
              "      fill: #174EA6;\n",
              "    }\n",
              "\n",
              "    .colab-df-buttons div {\n",
              "      margin-bottom: 4px;\n",
              "    }\n",
              "\n",
              "    [theme=dark] .colab-df-convert {\n",
              "      background-color: #3B4455;\n",
              "      fill: #D2E3FC;\n",
              "    }\n",
              "\n",
              "    [theme=dark] .colab-df-convert:hover {\n",
              "      background-color: #434B5C;\n",
              "      box-shadow: 0px 1px 3px 1px rgba(0, 0, 0, 0.15);\n",
              "      filter: drop-shadow(0px 1px 2px rgba(0, 0, 0, 0.3));\n",
              "      fill: #FFFFFF;\n",
              "    }\n",
              "  </style>\n",
              "\n",
              "    <script>\n",
              "      const buttonEl =\n",
              "        document.querySelector('#df-7c2f804e-3024-4f2e-abe5-c5538a5de7c0 button.colab-df-convert');\n",
              "      buttonEl.style.display =\n",
              "        google.colab.kernel.accessAllowed ? 'block' : 'none';\n",
              "\n",
              "      async function convertToInteractive(key) {\n",
              "        const element = document.querySelector('#df-7c2f804e-3024-4f2e-abe5-c5538a5de7c0');\n",
              "        const dataTable =\n",
              "          await google.colab.kernel.invokeFunction('convertToInteractive',\n",
              "                                                    [key], {});\n",
              "        if (!dataTable) return;\n",
              "\n",
              "        const docLinkHtml = 'Like what you see? Visit the ' +\n",
              "          '<a target=\"_blank\" href=https://colab.research.google.com/notebooks/data_table.ipynb>data table notebook</a>'\n",
              "          + ' to learn more about interactive tables.';\n",
              "        element.innerHTML = '';\n",
              "        dataTable['output_type'] = 'display_data';\n",
              "        await google.colab.output.renderOutput(dataTable, element);\n",
              "        const docLink = document.createElement('div');\n",
              "        docLink.innerHTML = docLinkHtml;\n",
              "        element.appendChild(docLink);\n",
              "      }\n",
              "    </script>\n",
              "  </div>\n",
              "\n",
              "\n",
              "<div id=\"df-2a7c640e-a8c1-4998-b2c7-85aa061ee1e5\">\n",
              "  <button class=\"colab-df-quickchart\" onclick=\"quickchart('df-2a7c640e-a8c1-4998-b2c7-85aa061ee1e5')\"\n",
              "            title=\"Suggest charts\"\n",
              "            style=\"display:none;\">\n",
              "\n",
              "<svg xmlns=\"http://www.w3.org/2000/svg\" height=\"24px\"viewBox=\"0 0 24 24\"\n",
              "     width=\"24px\">\n",
              "    <g>\n",
              "        <path d=\"M19 3H5c-1.1 0-2 .9-2 2v14c0 1.1.9 2 2 2h14c1.1 0 2-.9 2-2V5c0-1.1-.9-2-2-2zM9 17H7v-7h2v7zm4 0h-2V7h2v10zm4 0h-2v-4h2v4z\"/>\n",
              "    </g>\n",
              "</svg>\n",
              "  </button>\n",
              "\n",
              "<style>\n",
              "  .colab-df-quickchart {\n",
              "      --bg-color: #E8F0FE;\n",
              "      --fill-color: #1967D2;\n",
              "      --hover-bg-color: #E2EBFA;\n",
              "      --hover-fill-color: #174EA6;\n",
              "      --disabled-fill-color: #AAA;\n",
              "      --disabled-bg-color: #DDD;\n",
              "  }\n",
              "\n",
              "  [theme=dark] .colab-df-quickchart {\n",
              "      --bg-color: #3B4455;\n",
              "      --fill-color: #D2E3FC;\n",
              "      --hover-bg-color: #434B5C;\n",
              "      --hover-fill-color: #FFFFFF;\n",
              "      --disabled-bg-color: #3B4455;\n",
              "      --disabled-fill-color: #666;\n",
              "  }\n",
              "\n",
              "  .colab-df-quickchart {\n",
              "    background-color: var(--bg-color);\n",
              "    border: none;\n",
              "    border-radius: 50%;\n",
              "    cursor: pointer;\n",
              "    display: none;\n",
              "    fill: var(--fill-color);\n",
              "    height: 32px;\n",
              "    padding: 0;\n",
              "    width: 32px;\n",
              "  }\n",
              "\n",
              "  .colab-df-quickchart:hover {\n",
              "    background-color: var(--hover-bg-color);\n",
              "    box-shadow: 0 1px 2px rgba(60, 64, 67, 0.3), 0 1px 3px 1px rgba(60, 64, 67, 0.15);\n",
              "    fill: var(--button-hover-fill-color);\n",
              "  }\n",
              "\n",
              "  .colab-df-quickchart-complete:disabled,\n",
              "  .colab-df-quickchart-complete:disabled:hover {\n",
              "    background-color: var(--disabled-bg-color);\n",
              "    fill: var(--disabled-fill-color);\n",
              "    box-shadow: none;\n",
              "  }\n",
              "\n",
              "  .colab-df-spinner {\n",
              "    border: 2px solid var(--fill-color);\n",
              "    border-color: transparent;\n",
              "    border-bottom-color: var(--fill-color);\n",
              "    animation:\n",
              "      spin 1s steps(1) infinite;\n",
              "  }\n",
              "\n",
              "  @keyframes spin {\n",
              "    0% {\n",
              "      border-color: transparent;\n",
              "      border-bottom-color: var(--fill-color);\n",
              "      border-left-color: var(--fill-color);\n",
              "    }\n",
              "    20% {\n",
              "      border-color: transparent;\n",
              "      border-left-color: var(--fill-color);\n",
              "      border-top-color: var(--fill-color);\n",
              "    }\n",
              "    30% {\n",
              "      border-color: transparent;\n",
              "      border-left-color: var(--fill-color);\n",
              "      border-top-color: var(--fill-color);\n",
              "      border-right-color: var(--fill-color);\n",
              "    }\n",
              "    40% {\n",
              "      border-color: transparent;\n",
              "      border-right-color: var(--fill-color);\n",
              "      border-top-color: var(--fill-color);\n",
              "    }\n",
              "    60% {\n",
              "      border-color: transparent;\n",
              "      border-right-color: var(--fill-color);\n",
              "    }\n",
              "    80% {\n",
              "      border-color: transparent;\n",
              "      border-right-color: var(--fill-color);\n",
              "      border-bottom-color: var(--fill-color);\n",
              "    }\n",
              "    90% {\n",
              "      border-color: transparent;\n",
              "      border-bottom-color: var(--fill-color);\n",
              "    }\n",
              "  }\n",
              "</style>\n",
              "\n",
              "  <script>\n",
              "    async function quickchart(key) {\n",
              "      const quickchartButtonEl =\n",
              "        document.querySelector('#' + key + ' button');\n",
              "      quickchartButtonEl.disabled = true;  // To prevent multiple clicks.\n",
              "      quickchartButtonEl.classList.add('colab-df-spinner');\n",
              "      try {\n",
              "        const charts = await google.colab.kernel.invokeFunction(\n",
              "            'suggestCharts', [key], {});\n",
              "      } catch (error) {\n",
              "        console.error('Error during call to suggestCharts:', error);\n",
              "      }\n",
              "      quickchartButtonEl.classList.remove('colab-df-spinner');\n",
              "      quickchartButtonEl.classList.add('colab-df-quickchart-complete');\n",
              "    }\n",
              "    (() => {\n",
              "      let quickchartButtonEl =\n",
              "        document.querySelector('#df-2a7c640e-a8c1-4998-b2c7-85aa061ee1e5 button');\n",
              "      quickchartButtonEl.style.display =\n",
              "        google.colab.kernel.accessAllowed ? 'block' : 'none';\n",
              "    })();\n",
              "  </script>\n",
              "</div>\n",
              "    </div>\n",
              "  </div>\n"
            ],
            "application/vnd.google.colaboratory.intrinsic+json": {
              "type": "dataframe",
              "variable_name": "df",
              "summary": "{\n  \"name\": \"df\",\n  \"rows\": 1219,\n  \"fields\": [\n    {\n      \"column\": \"Mu\",\n      \"properties\": {\n        \"dtype\": \"number\",\n        \"std\": 0.7163650532802309,\n        \"min\": 0.149447813,\n        \"max\": 2.881787684,\n        \"num_unique_values\": 1219,\n        \"samples\": [\n          2.295046885,\n          2.078310404,\n          2.235921818\n        ],\n        \"semantic_type\": \"\",\n        \"description\": \"\"\n      }\n    },\n    {\n      \"column\": \"Dl\",\n      \"properties\": {\n        \"dtype\": \"number\",\n        \"std\": 0.5836686423464402,\n        \"min\": 0.318124001,\n        \"max\": 4.078752801,\n        \"num_unique_values\": 1219,\n        \"samples\": [\n          2.086739382,\n          1.836857404,\n          2.575872837\n        ],\n        \"semantic_type\": \"\",\n        \"description\": \"\"\n      }\n    },\n    {\n      \"column\": \"Lb\",\n      \"properties\": {\n        \"dtype\": \"number\",\n        \"std\": 0.47971798399393417,\n        \"min\": 0.813264762,\n        \"max\": 3.824416796,\n        \"num_unique_values\": 1219,\n        \"samples\": [\n          2.112999807,\n          1.724129611,\n          2.008712947\n        ],\n        \"semantic_type\": \"\",\n        \"description\": \"\"\n      }\n    },\n    {\n      \"column\": \"Tcyc\",\n      \"properties\": {\n        \"dtype\": \"number\",\n        \"std\": 44.599995324378405,\n        \"min\": 12.49166667,\n        \"max\": 332.7916667,\n        \"num_unique_values\": 827,\n        \"samples\": [\n          43.45833333,\n          131.5916667,\n          36.45833333\n        ],\n        \"semantic_type\": \"\",\n        \"description\": \"\"\n      }\n    },\n    {\n      \"column\": \"YFP\",\n      \"properties\": {\n        \"dtype\": \"number\",\n        \"std\": 233.8586529119329,\n        \"min\": -13.21951158,\n        \"max\": 1066.610168,\n        \"num_unique_values\": 1219,\n        \"samples\": [\n          17.0523495,\n          20.4938316,\n          79.10681278\n        ],\n        \"semantic_type\": \"\",\n        \"description\": \"\"\n      }\n    },\n    {\n      \"column\": \"schnitzNum\",\n      \"properties\": {\n        \"dtype\": \"number\",\n        \"std\": 797,\n        \"min\": 95,\n        \"max\": 3152,\n        \"num_unique_values\": 1219,\n        \"samples\": [\n          1371,\n          694,\n          189\n        ],\n        \"semantic_type\": \"\",\n        \"description\": \"\"\n      }\n    }\n  ]\n}"
            }
          },
          "metadata": {},
          "execution_count": 25
        }
      ],
      "source": [
        "df = pd.read_csv(\"data1.csv\")\n",
        "df"
      ]
    },
    {
      "cell_type": "code",
      "execution_count": null,
      "metadata": {
        "id": "moC2AVIcJMoQ",
        "colab": {
          "base_uri": "https://localhost:8080/"
        },
        "outputId": "5ba20a56-5f1c-4a2f-f532-9077cd348202"
      },
      "outputs": [
        {
          "output_type": "stream",
          "name": "stdout",
          "text": [
            "<class 'pandas.core.frame.DataFrame'>\n",
            "RangeIndex: 1219 entries, 0 to 1218\n",
            "Data columns (total 6 columns):\n",
            " #   Column      Non-Null Count  Dtype  \n",
            "---  ------      --------------  -----  \n",
            " 0   Mu          1219 non-null   float64\n",
            " 1   Dl          1219 non-null   float64\n",
            " 2   Lb          1219 non-null   float64\n",
            " 3   Tcyc        1219 non-null   float64\n",
            " 4   YFP         1219 non-null   float64\n",
            " 5   schnitzNum  1219 non-null   int64  \n",
            "dtypes: float64(5), int64(1)\n",
            "memory usage: 57.3 KB\n"
          ]
        }
      ],
      "source": [
        "df.info()"
      ]
    },
    {
      "cell_type": "code",
      "source": [
        "df.fillna(df.mean(), inplace=True)"
      ],
      "metadata": {
        "id": "wsd0fhbGIEQb"
      },
      "execution_count": null,
      "outputs": []
    },
    {
      "cell_type": "code",
      "source": [
        "df['schnitzNum'] = df['schnitzNum'].astype(float)"
      ],
      "metadata": {
        "id": "JbjlSGgSIF0J"
      },
      "execution_count": null,
      "outputs": []
    },
    {
      "cell_type": "code",
      "execution_count": null,
      "metadata": {
        "id": "LI5Eno7eJMhI",
        "colab": {
          "base_uri": "https://localhost:8080/",
          "height": 300
        },
        "outputId": "3008fe98-730a-4eb8-952c-72857e279031"
      },
      "outputs": [
        {
          "output_type": "execute_result",
          "data": {
            "text/plain": [
              "                Mu           Dl           Lb         Tcyc          YFP  \\\n",
              "count  1219.000000  1219.000000  1219.000000  1219.000000  1219.000000   \n",
              "mean      1.628015     1.651759     1.817942    50.214479   213.592913   \n",
              "std       0.716365     0.583669     0.479718    44.599995   233.858653   \n",
              "min       0.149448     0.318124     0.813265    12.491667   -13.219512   \n",
              "25%       0.964104     1.150776     1.384697    26.316667    14.376724   \n",
              "50%       1.920696     1.579605     1.877603    31.466667   119.862253   \n",
              "75%       2.223870     2.106683     2.182502    52.691667   365.426252   \n",
              "max       2.881788     4.078753     3.824417   332.791667  1066.610168   \n",
              "\n",
              "        schnitzNum  \n",
              "count  1219.000000  \n",
              "mean   1483.433962  \n",
              "std     797.590470  \n",
              "min      95.000000  \n",
              "25%     792.500000  \n",
              "50%    1521.000000  \n",
              "75%    2127.500000  \n",
              "max    3152.000000  "
            ],
            "text/html": [
              "\n",
              "  <div id=\"df-f043473d-0eef-414d-938c-41af2562981b\" class=\"colab-df-container\">\n",
              "    <div>\n",
              "<style scoped>\n",
              "    .dataframe tbody tr th:only-of-type {\n",
              "        vertical-align: middle;\n",
              "    }\n",
              "\n",
              "    .dataframe tbody tr th {\n",
              "        vertical-align: top;\n",
              "    }\n",
              "\n",
              "    .dataframe thead th {\n",
              "        text-align: right;\n",
              "    }\n",
              "</style>\n",
              "<table border=\"1\" class=\"dataframe\">\n",
              "  <thead>\n",
              "    <tr style=\"text-align: right;\">\n",
              "      <th></th>\n",
              "      <th>Mu</th>\n",
              "      <th>Dl</th>\n",
              "      <th>Lb</th>\n",
              "      <th>Tcyc</th>\n",
              "      <th>YFP</th>\n",
              "      <th>schnitzNum</th>\n",
              "    </tr>\n",
              "  </thead>\n",
              "  <tbody>\n",
              "    <tr>\n",
              "      <th>count</th>\n",
              "      <td>1219.000000</td>\n",
              "      <td>1219.000000</td>\n",
              "      <td>1219.000000</td>\n",
              "      <td>1219.000000</td>\n",
              "      <td>1219.000000</td>\n",
              "      <td>1219.000000</td>\n",
              "    </tr>\n",
              "    <tr>\n",
              "      <th>mean</th>\n",
              "      <td>1.628015</td>\n",
              "      <td>1.651759</td>\n",
              "      <td>1.817942</td>\n",
              "      <td>50.214479</td>\n",
              "      <td>213.592913</td>\n",
              "      <td>1483.433962</td>\n",
              "    </tr>\n",
              "    <tr>\n",
              "      <th>std</th>\n",
              "      <td>0.716365</td>\n",
              "      <td>0.583669</td>\n",
              "      <td>0.479718</td>\n",
              "      <td>44.599995</td>\n",
              "      <td>233.858653</td>\n",
              "      <td>797.590470</td>\n",
              "    </tr>\n",
              "    <tr>\n",
              "      <th>min</th>\n",
              "      <td>0.149448</td>\n",
              "      <td>0.318124</td>\n",
              "      <td>0.813265</td>\n",
              "      <td>12.491667</td>\n",
              "      <td>-13.219512</td>\n",
              "      <td>95.000000</td>\n",
              "    </tr>\n",
              "    <tr>\n",
              "      <th>25%</th>\n",
              "      <td>0.964104</td>\n",
              "      <td>1.150776</td>\n",
              "      <td>1.384697</td>\n",
              "      <td>26.316667</td>\n",
              "      <td>14.376724</td>\n",
              "      <td>792.500000</td>\n",
              "    </tr>\n",
              "    <tr>\n",
              "      <th>50%</th>\n",
              "      <td>1.920696</td>\n",
              "      <td>1.579605</td>\n",
              "      <td>1.877603</td>\n",
              "      <td>31.466667</td>\n",
              "      <td>119.862253</td>\n",
              "      <td>1521.000000</td>\n",
              "    </tr>\n",
              "    <tr>\n",
              "      <th>75%</th>\n",
              "      <td>2.223870</td>\n",
              "      <td>2.106683</td>\n",
              "      <td>2.182502</td>\n",
              "      <td>52.691667</td>\n",
              "      <td>365.426252</td>\n",
              "      <td>2127.500000</td>\n",
              "    </tr>\n",
              "    <tr>\n",
              "      <th>max</th>\n",
              "      <td>2.881788</td>\n",
              "      <td>4.078753</td>\n",
              "      <td>3.824417</td>\n",
              "      <td>332.791667</td>\n",
              "      <td>1066.610168</td>\n",
              "      <td>3152.000000</td>\n",
              "    </tr>\n",
              "  </tbody>\n",
              "</table>\n",
              "</div>\n",
              "    <div class=\"colab-df-buttons\">\n",
              "\n",
              "  <div class=\"colab-df-container\">\n",
              "    <button class=\"colab-df-convert\" onclick=\"convertToInteractive('df-f043473d-0eef-414d-938c-41af2562981b')\"\n",
              "            title=\"Convert this dataframe to an interactive table.\"\n",
              "            style=\"display:none;\">\n",
              "\n",
              "  <svg xmlns=\"http://www.w3.org/2000/svg\" height=\"24px\" viewBox=\"0 -960 960 960\">\n",
              "    <path d=\"M120-120v-720h720v720H120Zm60-500h600v-160H180v160Zm220 220h160v-160H400v160Zm0 220h160v-160H400v160ZM180-400h160v-160H180v160Zm440 0h160v-160H620v160ZM180-180h160v-160H180v160Zm440 0h160v-160H620v160Z\"/>\n",
              "  </svg>\n",
              "    </button>\n",
              "\n",
              "  <style>\n",
              "    .colab-df-container {\n",
              "      display:flex;\n",
              "      gap: 12px;\n",
              "    }\n",
              "\n",
              "    .colab-df-convert {\n",
              "      background-color: #E8F0FE;\n",
              "      border: none;\n",
              "      border-radius: 50%;\n",
              "      cursor: pointer;\n",
              "      display: none;\n",
              "      fill: #1967D2;\n",
              "      height: 32px;\n",
              "      padding: 0 0 0 0;\n",
              "      width: 32px;\n",
              "    }\n",
              "\n",
              "    .colab-df-convert:hover {\n",
              "      background-color: #E2EBFA;\n",
              "      box-shadow: 0px 1px 2px rgba(60, 64, 67, 0.3), 0px 1px 3px 1px rgba(60, 64, 67, 0.15);\n",
              "      fill: #174EA6;\n",
              "    }\n",
              "\n",
              "    .colab-df-buttons div {\n",
              "      margin-bottom: 4px;\n",
              "    }\n",
              "\n",
              "    [theme=dark] .colab-df-convert {\n",
              "      background-color: #3B4455;\n",
              "      fill: #D2E3FC;\n",
              "    }\n",
              "\n",
              "    [theme=dark] .colab-df-convert:hover {\n",
              "      background-color: #434B5C;\n",
              "      box-shadow: 0px 1px 3px 1px rgba(0, 0, 0, 0.15);\n",
              "      filter: drop-shadow(0px 1px 2px rgba(0, 0, 0, 0.3));\n",
              "      fill: #FFFFFF;\n",
              "    }\n",
              "  </style>\n",
              "\n",
              "    <script>\n",
              "      const buttonEl =\n",
              "        document.querySelector('#df-f043473d-0eef-414d-938c-41af2562981b button.colab-df-convert');\n",
              "      buttonEl.style.display =\n",
              "        google.colab.kernel.accessAllowed ? 'block' : 'none';\n",
              "\n",
              "      async function convertToInteractive(key) {\n",
              "        const element = document.querySelector('#df-f043473d-0eef-414d-938c-41af2562981b');\n",
              "        const dataTable =\n",
              "          await google.colab.kernel.invokeFunction('convertToInteractive',\n",
              "                                                    [key], {});\n",
              "        if (!dataTable) return;\n",
              "\n",
              "        const docLinkHtml = 'Like what you see? Visit the ' +\n",
              "          '<a target=\"_blank\" href=https://colab.research.google.com/notebooks/data_table.ipynb>data table notebook</a>'\n",
              "          + ' to learn more about interactive tables.';\n",
              "        element.innerHTML = '';\n",
              "        dataTable['output_type'] = 'display_data';\n",
              "        await google.colab.output.renderOutput(dataTable, element);\n",
              "        const docLink = document.createElement('div');\n",
              "        docLink.innerHTML = docLinkHtml;\n",
              "        element.appendChild(docLink);\n",
              "      }\n",
              "    </script>\n",
              "  </div>\n",
              "\n",
              "\n",
              "<div id=\"df-b1684d52-0ca7-4f6d-b962-6fe8c9083bbe\">\n",
              "  <button class=\"colab-df-quickchart\" onclick=\"quickchart('df-b1684d52-0ca7-4f6d-b962-6fe8c9083bbe')\"\n",
              "            title=\"Suggest charts\"\n",
              "            style=\"display:none;\">\n",
              "\n",
              "<svg xmlns=\"http://www.w3.org/2000/svg\" height=\"24px\"viewBox=\"0 0 24 24\"\n",
              "     width=\"24px\">\n",
              "    <g>\n",
              "        <path d=\"M19 3H5c-1.1 0-2 .9-2 2v14c0 1.1.9 2 2 2h14c1.1 0 2-.9 2-2V5c0-1.1-.9-2-2-2zM9 17H7v-7h2v7zm4 0h-2V7h2v10zm4 0h-2v-4h2v4z\"/>\n",
              "    </g>\n",
              "</svg>\n",
              "  </button>\n",
              "\n",
              "<style>\n",
              "  .colab-df-quickchart {\n",
              "      --bg-color: #E8F0FE;\n",
              "      --fill-color: #1967D2;\n",
              "      --hover-bg-color: #E2EBFA;\n",
              "      --hover-fill-color: #174EA6;\n",
              "      --disabled-fill-color: #AAA;\n",
              "      --disabled-bg-color: #DDD;\n",
              "  }\n",
              "\n",
              "  [theme=dark] .colab-df-quickchart {\n",
              "      --bg-color: #3B4455;\n",
              "      --fill-color: #D2E3FC;\n",
              "      --hover-bg-color: #434B5C;\n",
              "      --hover-fill-color: #FFFFFF;\n",
              "      --disabled-bg-color: #3B4455;\n",
              "      --disabled-fill-color: #666;\n",
              "  }\n",
              "\n",
              "  .colab-df-quickchart {\n",
              "    background-color: var(--bg-color);\n",
              "    border: none;\n",
              "    border-radius: 50%;\n",
              "    cursor: pointer;\n",
              "    display: none;\n",
              "    fill: var(--fill-color);\n",
              "    height: 32px;\n",
              "    padding: 0;\n",
              "    width: 32px;\n",
              "  }\n",
              "\n",
              "  .colab-df-quickchart:hover {\n",
              "    background-color: var(--hover-bg-color);\n",
              "    box-shadow: 0 1px 2px rgba(60, 64, 67, 0.3), 0 1px 3px 1px rgba(60, 64, 67, 0.15);\n",
              "    fill: var(--button-hover-fill-color);\n",
              "  }\n",
              "\n",
              "  .colab-df-quickchart-complete:disabled,\n",
              "  .colab-df-quickchart-complete:disabled:hover {\n",
              "    background-color: var(--disabled-bg-color);\n",
              "    fill: var(--disabled-fill-color);\n",
              "    box-shadow: none;\n",
              "  }\n",
              "\n",
              "  .colab-df-spinner {\n",
              "    border: 2px solid var(--fill-color);\n",
              "    border-color: transparent;\n",
              "    border-bottom-color: var(--fill-color);\n",
              "    animation:\n",
              "      spin 1s steps(1) infinite;\n",
              "  }\n",
              "\n",
              "  @keyframes spin {\n",
              "    0% {\n",
              "      border-color: transparent;\n",
              "      border-bottom-color: var(--fill-color);\n",
              "      border-left-color: var(--fill-color);\n",
              "    }\n",
              "    20% {\n",
              "      border-color: transparent;\n",
              "      border-left-color: var(--fill-color);\n",
              "      border-top-color: var(--fill-color);\n",
              "    }\n",
              "    30% {\n",
              "      border-color: transparent;\n",
              "      border-left-color: var(--fill-color);\n",
              "      border-top-color: var(--fill-color);\n",
              "      border-right-color: var(--fill-color);\n",
              "    }\n",
              "    40% {\n",
              "      border-color: transparent;\n",
              "      border-right-color: var(--fill-color);\n",
              "      border-top-color: var(--fill-color);\n",
              "    }\n",
              "    60% {\n",
              "      border-color: transparent;\n",
              "      border-right-color: var(--fill-color);\n",
              "    }\n",
              "    80% {\n",
              "      border-color: transparent;\n",
              "      border-right-color: var(--fill-color);\n",
              "      border-bottom-color: var(--fill-color);\n",
              "    }\n",
              "    90% {\n",
              "      border-color: transparent;\n",
              "      border-bottom-color: var(--fill-color);\n",
              "    }\n",
              "  }\n",
              "</style>\n",
              "\n",
              "  <script>\n",
              "    async function quickchart(key) {\n",
              "      const quickchartButtonEl =\n",
              "        document.querySelector('#' + key + ' button');\n",
              "      quickchartButtonEl.disabled = true;  // To prevent multiple clicks.\n",
              "      quickchartButtonEl.classList.add('colab-df-spinner');\n",
              "      try {\n",
              "        const charts = await google.colab.kernel.invokeFunction(\n",
              "            'suggestCharts', [key], {});\n",
              "      } catch (error) {\n",
              "        console.error('Error during call to suggestCharts:', error);\n",
              "      }\n",
              "      quickchartButtonEl.classList.remove('colab-df-spinner');\n",
              "      quickchartButtonEl.classList.add('colab-df-quickchart-complete');\n",
              "    }\n",
              "    (() => {\n",
              "      let quickchartButtonEl =\n",
              "        document.querySelector('#df-b1684d52-0ca7-4f6d-b962-6fe8c9083bbe button');\n",
              "      quickchartButtonEl.style.display =\n",
              "        google.colab.kernel.accessAllowed ? 'block' : 'none';\n",
              "    })();\n",
              "  </script>\n",
              "</div>\n",
              "    </div>\n",
              "  </div>\n"
            ],
            "application/vnd.google.colaboratory.intrinsic+json": {
              "type": "dataframe",
              "summary": "{\n  \"name\": \"df\",\n  \"rows\": 8,\n  \"fields\": [\n    {\n      \"column\": \"Mu\",\n      \"properties\": {\n        \"dtype\": \"number\",\n        \"std\": 430.4529348728293,\n        \"min\": 0.149447813,\n        \"max\": 1219.0,\n        \"num_unique_values\": 8,\n        \"samples\": [\n          1.6280147872034454,\n          1.920695769,\n          1219.0\n        ],\n        \"semantic_type\": \"\",\n        \"description\": \"\"\n      }\n    },\n    {\n      \"column\": \"Dl\",\n      \"properties\": {\n        \"dtype\": \"number\",\n        \"std\": 430.4038312513713,\n        \"min\": 0.318124001,\n        \"max\": 1219.0,\n        \"num_unique_values\": 8,\n        \"samples\": [\n          1.6517586373724364,\n          1.579605128,\n          1219.0\n        ],\n        \"semantic_type\": \"\",\n        \"description\": \"\"\n      }\n    },\n    {\n      \"column\": \"Lb\",\n      \"properties\": {\n        \"dtype\": \"number\",\n        \"std\": 430.35747536964993,\n        \"min\": 0.47971798399393417,\n        \"max\": 1219.0,\n        \"num_unique_values\": 8,\n        \"samples\": [\n          1.8179418543757178,\n          1.877603376,\n          1219.0\n        ],\n        \"semantic_type\": \"\",\n        \"description\": \"\"\n      }\n    },\n    {\n      \"column\": \"Tcyc\",\n      \"properties\": {\n        \"dtype\": \"number\",\n        \"std\": 416.5185003932805,\n        \"min\": 12.49166667,\n        \"max\": 1219.0,\n        \"num_unique_values\": 8,\n        \"samples\": [\n          50.21447908136177,\n          31.46666667,\n          1219.0\n        ],\n        \"semantic_type\": \"\",\n        \"description\": \"\"\n      }\n    },\n    {\n      \"column\": \"YFP\",\n      \"properties\": {\n        \"dtype\": \"number\",\n        \"std\": 474.57669479692504,\n        \"min\": -13.21951158,\n        \"max\": 1219.0,\n        \"num_unique_values\": 8,\n        \"samples\": [\n          213.59291348910256,\n          119.8622526,\n          1219.0\n        ],\n        \"semantic_type\": \"\",\n        \"description\": \"\"\n      }\n    },\n    {\n      \"column\": \"schnitzNum\",\n      \"properties\": {\n        \"dtype\": \"number\",\n        \"std\": 932.5911706577514,\n        \"min\": 95.0,\n        \"max\": 3152.0,\n        \"num_unique_values\": 8,\n        \"samples\": [\n          1483.433962264151,\n          1521.0,\n          1219.0\n        ],\n        \"semantic_type\": \"\",\n        \"description\": \"\"\n      }\n    }\n  ]\n}"
            }
          },
          "metadata": {},
          "execution_count": 29
        }
      ],
      "source": [
        "df.describe()"
      ]
    },
    {
      "cell_type": "code",
      "execution_count": null,
      "metadata": {
        "id": "aWX_Dcg5M-TX",
        "colab": {
          "base_uri": "https://localhost:8080/",
          "height": 691
        },
        "outputId": "42dc2e87-6638-4108-d9d0-b3a74fc8f889"
      },
      "outputs": [
        {
          "output_type": "execute_result",
          "data": {
            "text/plain": [
              "array([[<Axes: title={'center': 'Mu'}>, <Axes: title={'center': 'Dl'}>],\n",
              "       [<Axes: title={'center': 'Lb'}>, <Axes: title={'center': 'Tcyc'}>],\n",
              "       [<Axes: title={'center': 'YFP'}>,\n",
              "        <Axes: title={'center': 'schnitzNum'}>]], dtype=object)"
            ]
          },
          "metadata": {},
          "execution_count": 30
        },
        {
          "output_type": "display_data",
          "data": {
            "text/plain": [
              "<Figure size 1100x700 with 6 Axes>"
            ],
            "image/png": "[encoded data removed]"
          },
          "metadata": {}
        }
      ],
      "source": [
        "df.hist(bins=40, figsize=(11,7))"
      ]
    },
    {
      "cell_type": "code",
      "execution_count": null,
      "metadata": {
        "id": "fvQqxSikeBF0"
      },
      "outputs": [],
      "source": [
        "weight = 0.7\n",
        "bias = 0.3"
      ]
    },
    {
      "cell_type": "code",
      "source": [
        "X = df.iloc[:, :-1].values  # Features (all rows, all columns except the last)\n",
        "y = df.iloc[:, -1].values  # Target variable (all rows, last column)\n"
      ],
      "metadata": {
        "id": "g6ayZusXAtTS"
      },
      "execution_count": null,
      "outputs": []
    },
    {
      "cell_type": "code",
      "source": [
        "len(X), len(y)"
      ],
      "metadata": {
        "colab": {
          "base_uri": "https://localhost:8080/"
        },
        "id": "HmVjN815EvOG",
        "outputId": "8ef97672-2fae-4e98-edf1-a8168e9239f5"
      },
      "execution_count": null,
      "outputs": [
        {
          "output_type": "execute_result",
          "data": {
            "text/plain": [
              "(1219, 1219)"
            ]
          },
          "metadata": {},
          "execution_count": 33
        }
      ]
    },
    {
      "cell_type": "code",
      "source": [
        "print(f\"Current length of x: {len(X)}\")\n",
        "print(f\"Current data type of x: {type(X)}\")\n",
        "\n",
        "print(f\"Current length of y: {len(y)}\")\n",
        "print(f\"Current data type of y: {type(y)}\")"
      ],
      "metadata": {
        "colab": {
          "base_uri": "https://localhost:8080/"
        },
        "id": "OcWJnEUGHPVV",
        "outputId": "9bb5861e-e4cb-46cf-91b2-b1cef2f6a5e5"
      },
      "execution_count": null,
      "outputs": [
        {
          "output_type": "stream",
          "name": "stdout",
          "text": [
            "Current length of x: 1219\n",
            "Current data type of x: <class 'numpy.ndarray'>\n",
            "Current length of y: 1219\n",
            "Current data type of y: <class 'numpy.ndarray'>\n"
          ]
        }
      ]
    },
    {
      "cell_type": "code",
      "source": [
        "\n",
        "\n",
        "X_train, X_test, y_train, y_test = train_test_split(X, y, test_size=0.2, random_state=42)\n",
        "X_train, X_test, y_train, y_test"
      ],
      "metadata": {
        "colab": {
          "base_uri": "https://localhost:8080/"
        },
        "id": "z7t79QJ7-DK4",
        "outputId": "0820f6ff-611e-4b7e-db39-ecb7365cfb5e"
      },
      "execution_count": null,
      "outputs": [
        {
          "output_type": "execute_result",
          "data": {
            "text/plain": [
              "(array([[  1.66187366,   1.20915399,   1.62347839,  32.66666667,\n",
              "         210.9190376 ],\n",
              "        [  1.95114723,   2.25175841,   1.99584571,  32.68333333,\n",
              "          15.9829154 ],\n",
              "        [  2.11899563,   1.56160806,   1.99929838,  25.375     ,\n",
              "          99.54904665],\n",
              "        ...,\n",
              "        [  0.88077143,   1.02610888,   1.29933346,  66.03333333,\n",
              "         430.5104693 ],\n",
              "        [  0.81317902,   1.16017449,   1.53728166,  55.81666667,\n",
              "         416.1944644 ],\n",
              "        [  0.61255547,   1.07455747,   1.21202959,  91.38333333,\n",
              "         592.8482421 ]]),\n",
              " array([[  2.29504689,   2.08673938,   2.11299981,  27.18333333,\n",
              "          17.0523495 ],\n",
              "        [  2.0783104 ,   1.8368574 ,   1.72412961,  29.40833333,\n",
              "          20.4938316 ],\n",
              "        [  2.23592182,   2.57587284,   2.00871295,  31.425     ,\n",
              "          79.10681278],\n",
              "        ...,\n",
              "        [  2.43162656,   2.35018362,   2.14689634,  27.35      ,\n",
              "          95.98423042],\n",
              "        [  0.70619012,   1.05468717,   1.10918119,  81.45      ,\n",
              "         483.0162243 ],\n",
              "        [  2.33204898,   2.30241905,   2.72340347,  23.15      ,\n",
              "          75.84542177]]),\n",
              " array([2254.,  716., 1741., 1511., 1671., 2823.,  795.,  752., 1916.,\n",
              "        1505., 1508.,  708., 2306., 1400.,  801.,  760., 1341.,  847.,\n",
              "         270.,  380., 2597., 1229., 2148., 2173.,  695., 2446., 2189.,\n",
              "        2111., 1778.,  400., 2192.,  404., 1647., 1971., 1018.,  401.,\n",
              "        1909., 2016.,  618., 1531.,  712.,  904., 2077., 1501., 1668.,\n",
              "        1495., 2081., 2565., 1859., 1291., 1504.,  802., 1649., 2486.,\n",
              "        2357., 1917., 2041., 1052.,  181.,  160.,  660., 1172.,  392.,\n",
              "        2316., 2876.,  105., 1722., 2373., 2510., 1059., 1973., 1837.,\n",
              "        1892.,  821., 1263.,  835., 2877.,  979.,  109.,  315., 3037.,\n",
              "        1915., 1557., 2468., 3014., 1486.,  863.,  623., 1103., 1381.,\n",
              "        1634., 1041.,  233.,  234.,  874.,  579.,  119., 1688., 1655.,\n",
              "         778., 1542., 1871., 2535., 1149., 1997., 2778., 1940., 1502.,\n",
              "        1212., 2687., 1613., 2272.,  711., 2300.,  650., 1122.,   97.,\n",
              "         110.,  810., 2424., 1487., 1356., 1560.,  583., 1151.,  152.,\n",
              "        2854., 1901., 1011., 2613., 1245., 2571., 1811., 1404.,  902.,\n",
              "        2478., 1843.,  686.,  757.,  146.,  867., 1712.,  194.,  832.,\n",
              "         328., 1943.,  210., 1369.,  581.,  354., 1484., 1121., 1430.,\n",
              "         245., 1724., 1849., 1324., 2579., 2142., 1911., 1457., 1482.,\n",
              "        1165., 2684.,  853., 2302., 2827.,  825., 2473., 2900., 1697.,\n",
              "        1710., 2416., 1361., 1442.,  225., 1786.,  289., 2079., 1089.,\n",
              "         898., 2213.,  721., 1669., 1104.,  916., 1818., 1443., 2276.,\n",
              "        1385., 1307., 2531.,  524., 1978., 3015.,  337.,  952.,  653.,\n",
              "        1751., 3120., 1532.,  566., 1951.,  696., 1894., 1658.,  870.,\n",
              "        1774., 2950., 1258.,  525.,  399., 2860., 2464., 1617.,  263.,\n",
              "        1318., 2032., 1880.,  158., 1189.,  484.,  672.,  796., 1882.,\n",
              "        1222.,  887.,  865.,  729., 2271.,  306., 2221., 2436., 2179.,\n",
              "        1544., 1883., 1567., 2164., 1873., 1721.,  231., 1620., 1842.,\n",
              "        1492., 2572., 2623.,  783.,  684., 2285., 2211.,  816., 1396.,\n",
              "         608., 1199., 1009.,  646., 1957., 1729., 1768.,  793., 2662.,\n",
              "        1976., 2897., 2187., 2782.,  676., 1877., 1534.,  244.,  294.,\n",
              "        1460.,  167., 2097., 1143., 1137., 2870., 1980., 1704.,  257.,\n",
              "         275., 1425.,  267., 1163., 1820., 1114., 1521., 2137., 1040.,\n",
              "        2465., 1556., 1657.,  326., 2516., 1553.,  228.,  722., 2017.,\n",
              "         651.,  614.,  409., 2685.,  964.,  349., 1948.,  678., 2847.,\n",
              "         114., 1144., 2108., 1010., 2869., 2159., 1167., 2648.,  408.,\n",
              "        1279., 2655., 1366.,  516., 2858., 1739., 1738., 3036.,  111.,\n",
              "        2096., 2219.,  909.,  860., 1747., 1989.,  693., 2095., 2140.,\n",
              "        2083., 1543., 1988., 1340., 1969., 2251., 2012., 2787., 1125.,\n",
              "        1352., 2286.,  624., 2459.,  580.,  262.,  416., 1770., 1750.,\n",
              "        1522.,  385., 1907., 1047., 1689., 1292., 2113., 1286., 2643.,\n",
              "         891., 1006.,   95.,  917., 2731., 1196., 1900., 1868.,  495.,\n",
              "        1145.,  375., 1637., 1349.,  285., 2861.,  521., 1961., 1058.,\n",
              "         679.,  240.,  383.,  780., 2862.,  856., 2889., 1272., 2204.,\n",
              "        2190., 1260.,  869., 2296.,  475.,  153., 1312.,  538., 1959.,\n",
              "        1903.,  491., 1752.,  507., 1317., 2480., 1743., 1247.,  247.,\n",
              "        2344., 1490.,  645.,  582., 2262.,  384., 2242., 1810., 2240.,\n",
              "         527.,  187.,  332., 2167., 1444., 2310., 2380., 2837., 1223.,\n",
              "        1183.,  144., 1674., 1699., 2839., 2377.,  937., 2027., 2481.,\n",
              "         997., 1156.,  701., 2073., 2372., 1136., 1019., 1838.,  512.,\n",
              "         129., 1748., 1970., 1503.,  227.,  710., 2708.,  717., 2805.,\n",
              "         941., 2133., 1975., 2082., 1784., 2174., 1393., 2119., 1681.,\n",
              "        2158., 1162., 1015., 1667., 2176., 2298.,  968., 1053.,  253.,\n",
              "        2690., 2087., 1273., 2028., 1537.,  345., 1062., 1510., 1513.,\n",
              "         281., 2810., 1271., 2112., 2274., 2124.,  117., 1026., 1869.,\n",
              "        1406.,  188.,  486., 1060., 1462.,  705., 1954., 1094., 1684.,\n",
              "        1383., 2691., 1665., 1682., 2485., 2898., 3152., 2128.,  692.,\n",
              "         866.,  126., 2160.,  851., 1517., 2629., 2163.,  611.,  519.,\n",
              "         311., 1813., 1321.,  142.,  905., 1764., 2290., 2795., 1524.,\n",
              "        2404.,  871., 1105., 1908.,  590.,  561., 2165., 2202.,  293.,\n",
              "        2022.,  238., 2147.,  728., 1691.,  276., 1111., 2431.,  430.,\n",
              "         254., 2461., 1477., 1139., 1703.,  530.,  709.,  648., 1238.,\n",
              "        2859., 1426.,  348., 1570., 2543., 1803., 1305., 1565., 2066.,\n",
              "        2390., 2201.,  376., 1885.,  347., 1191., 1777., 2589.,  220.,\n",
              "        1512., 1881., 2311., 1619., 2161., 2194.,  327., 1568.,  943.,\n",
              "         706., 1618., 1923., 1928.,  192.,  895., 1856.,  540.,  320.,\n",
              "         107., 1541., 1452.,  201.,  699., 2600., 1134., 2315., 1875.,\n",
              "        1958., 2052., 1686.,  792.,  873., 2832.,  820.,  418.,  374.,\n",
              "        2509., 1459., 1692., 1645.,  198., 1746., 1896., 1952.,  901.,\n",
              "        2830.,  405., 1188., 1616., 1032., 2632., 2185.,  839.,  130.,\n",
              "        1676.,  170., 1942., 1288., 1945., 2521., 1044., 1921., 2020.,\n",
              "        1363., 1816., 2672., 2143.,  180.,  511.,  667., 1912., 2578.,\n",
              "        2294., 1878., 2981., 1242.,  436., 1571., 1639., 1981.,  734.,\n",
              "        1549., 2710., 1677., 2394., 2102., 1445., 2797., 1765., 1887.,\n",
              "         128.,  378.,  844.,  685., 2250., 2932.,  535.,  346., 2884.,\n",
              "        2136., 1515.,  520.,  781., 1262.,  894., 2435., 2348., 1785.,\n",
              "        2568., 2279., 1314.,  963.,  191., 1197.,  449., 2688.,  494.,\n",
              "         127., 1302.,  195.,  536., 1392., 1310., 2515., 2231., 1947.,\n",
              "        2351., 1216., 2717.,  727., 2425., 1893., 2495.,  621.,  150.,\n",
              "         726., 2822., 1115., 2873.,  929.,  625.,  178., 1656., 1801.,\n",
              "        2943.,  965., 1185., 2068., 2418., 2946., 1680.,  166., 1574.,\n",
              "        2630.,  539., 3012., 2667., 2273., 1282., 2131., 2328., 2960.,\n",
              "        2584., 1898., 1476.,  458., 1672., 2199., 2727.,  464., 1926.,\n",
              "        1706., 2402., 2053., 2091., 2127., 3123.,  423., 2332., 2381.,\n",
              "        1294.,  339.,  622., 2798., 1979.,  325., 1072., 1065., 2217.,\n",
              "        1548., 1488., 2502., 2135., 1660.,  352.,  203.,  421., 1039.,\n",
              "        3009.,  569., 2732., 1624., 2610.,  641.,  112., 2337.,  456.,\n",
              "         173., 1150., 1614.,  681.,  786., 2092., 2476., 2063., 2730.,\n",
              "        1547.,  885., 2427.,  698.,  420., 1190., 1575., 3010., 2720.,\n",
              "        1398., 2151., 1240., 2567.,  412., 1038., 2197., 2700., 1628.,\n",
              "        1173.,  528., 1520.,  407., 1804., 2264.,  544., 2071.,  720.,\n",
              "         765., 2586., 1033.,  363.,  559., 1955.,  669., 2786.,  998.,\n",
              "        1983.,  594., 1576.,   96.,  341., 1694., 2191., 2553., 1127.,\n",
              "        1641., 2605.,  827., 1611., 1716., 2235., 1554., 1561., 2880.,\n",
              "        2653., 1891., 1589., 2330., 1408., 1673., 1464., 1335., 2460.,\n",
              "        1367., 1800., 2661., 1227.,  298., 2352., 1434., 1779., 2013.,\n",
              "        2085., 2406.,  568., 1014., 1889., 2029., 1028., 1839., 2627.,\n",
              "        2374., 1585., 1528., 2203., 1745., 1675.,  310., 1904., 1043.,\n",
              "        1280., 2482., 2448., 2152., 1870.,  554.,  389., 2432.,  183.,\n",
              "        2347.,  627.,  985.,  746., 1064., 1013., 1498., 2518., 1598.,\n",
              "        1320.,  230.,  125., 2469., 1251.,  989.,  529., 1832.,  587.,\n",
              "        1886., 2493., 2055.,  868., 1737.,  770., 2345., 1159., 1919.,\n",
              "         707., 2291.,  556.,  460., 1749., 1037., 1700., 2663., 1441.,\n",
              "        2353., 2369., 2583.,  567.,  168., 1862., 1293., 2962.,  288.,\n",
              "        2094., 1437., 1865.,  657.,  122.,  824., 1509., 1007.,  485.,\n",
              "        1962.,  139., 1597., 2777., 1950., 1432., 2878., 1678., 2200.,\n",
              "         532., 2245., 1695., 1300., 2511., 1192., 1987., 1794.,  680.,\n",
              "         141., 1166., 2872.,  715., 2198., 1002., 1905.,  881., 1848.,\n",
              "         381., 2030., 2652.,  279.,  861., 1179.,  359., 2421., 2551.,\n",
              "        2664., 1995., 2659.]),\n",
              " array([1371.,  694.,  189., 2322., 1808.,  809., 1809., 1182.,  576.,\n",
              "         443., 2588., 1718., 1049., 1259., 2118., 1330., 1776., 1401.,\n",
              "        1805., 1075.,  990., 2601., 2728.,  899.,  777., 2378., 1088.,\n",
              "        1992.,  862., 3013., 1357.,  329.,  961., 1514., 2100.,  260.,\n",
              "        1944., 1538.,  255., 1853.,  190., 1586., 2089.,  344., 1112.,\n",
              "         703., 1458., 2508., 2513., 1977., 1203.,  656.,  537., 1068.,\n",
              "        2793., 2075.,  776., 2408., 1497.,  266., 1888., 2134.,  196.,\n",
              "         896., 1670., 1050., 2101., 3001., 2154., 2125.,  919.,  883.,\n",
              "         242., 2117.,  143.,  318., 2267.,  222., 1588., 2405., 1855.,\n",
              "         918., 2359.,  591.,  774., 2208., 1217.,  630., 2420., 2184.,\n",
              "        2088.,  199., 1478., 2058., 1402., 1228., 2806.,  335., 1539.,\n",
              "         367.,  206., 2132., 2715.,  379.,  219.,  278., 1726., 2144.,\n",
              "         714., 2863., 1140.,  493., 2799., 2479., 2669.,  840., 1428.,\n",
              "        1108., 1101., 1569., 1735., 2307., 1612., 3122., 2355., 1054.,\n",
              "        1771., 1169., 1109., 2047., 1690.,  980.,  731., 3000., 2049.,\n",
              "         643., 1823., 1913., 2409., 1742., 1829., 1972., 2282., 2325.,\n",
              "        1727.,  704.,  553.,  508.,  911.,  413., 2923., 2182., 1130.,\n",
              "        1707., 1031., 1733., 1309., 1949.,  857., 1920., 3008.,  489.,\n",
              "         574., 2528.,  390.,  526., 2256., 1175., 1687.,  455.,  403.,\n",
              "        1096., 2281., 1344., 2492.,  671.,  991., 2735., 2536., 2320.,\n",
              "        2698.,  923.,  570., 1924., 1884.,  473., 1074., 2206.,  448.,\n",
              "         858., 1984.,  607.,  541., 2215., 1354.,  766.,  545.,  939.,\n",
              "        2169., 1424., 1615., 1653.,  753., 1559., 2278., 2882., 1365.,\n",
              "        1342.,  302., 1178., 1974.,  517.,  165., 2522., 2433., 2227.,\n",
              "        1446.,  664.,  864., 1792., 2430.,  280., 2301.,  996.,  935.,\n",
              "        2683., 2449., 1506., 1474., 1922., 1496., 1345., 2422., 1397.,\n",
              "        1661., 2604., 1358.,  115., 2519., 2166.,  661.,  223., 2490.,\n",
              "         229.]))"
            ]
          },
          "metadata": {},
          "execution_count": 35
        }
      ]
    },
    {
      "cell_type": "code",
      "source": [
        "len(X_train), len(y_train), len(X_test), len(y_test)"
      ],
      "metadata": {
        "colab": {
          "base_uri": "https://localhost:8080/"
        },
        "id": "vd3_0qA_A6BF",
        "outputId": "0e5b4a0a-f92f-4ee8-ccc0-6a01fc1b4cff"
      },
      "execution_count": null,
      "outputs": [
        {
          "output_type": "execute_result",
          "data": {
            "text/plain": [
              "(975, 975, 244, 244)"
            ]
          },
          "metadata": {},
          "execution_count": 36
        }
      ]
    },
    {
      "cell_type": "code",
      "source": [
        "# Create a Linear Regression model class\n",
        "class LinearRegressionModel(nn.Module): # <- almost everything in PyTorch is a nn.Module (think of this as neural network lego blocks)\n",
        "    def __init__(self):\n",
        "        super().__init__()\n",
        "        self.weights = nn.Parameter(torch.randn(1, # <- start with random weights (this will get adjusted as the model learns)\n",
        "                                                dtype=torch.float), # <- PyTorch loves float32 by default\n",
        "                                   requires_grad=True) # <- can we update this value with gradient descent?)\n",
        "\n",
        "        self.bias = nn.Parameter(torch.randn(1, # <- start with random bias (this will get adjusted as the model learns)\n",
        "                                            dtype=torch.float), # <- PyTorch loves float32 by default\n",
        "                                requires_grad=True) # <- can we update this value with gradient descent?))\n",
        "\n",
        "    # Forward defines the computation in the model\n",
        "    def forward(self, x: torch.Tensor) -> torch.Tensor: # <- \"x\" is the input data (e.g. training/testing features)\n",
        "        return self.weights * x + self.bias # <- this is the linear regression formula (y = m*x + b)\n"
      ],
      "metadata": {
        "id": "kxZpDtLN9jFb"
      },
      "execution_count": null,
      "outputs": []
    },
    {
      "cell_type": "code",
      "source": [
        "# Set manual seed since nn.Parameter are randomly initialzied\n",
        "torch.manual_seed(42)\n",
        "\n",
        "# Create an instance of the model (this is a subclass of nn.Module that contains nn.Parameter(s))\n",
        "model_0 = LinearRegressionModel()\n",
        "\n",
        "# Check the nn.Parameter(s) within the nn.Module subclass we created\n",
        "list(model_0.parameters())"
      ],
      "metadata": {
        "colab": {
          "base_uri": "https://localhost:8080/"
        },
        "id": "PLRekQrtBGlO",
        "outputId": "aabfb73a-90e0-4988-8b9a-622dce7bd06a"
      },
      "execution_count": null,
      "outputs": [
        {
          "output_type": "execute_result",
          "data": {
            "text/plain": [
              "[Parameter containing:\n",
              " tensor([0.3367], requires_grad=True),\n",
              " Parameter containing:\n",
              " tensor([0.1288], requires_grad=True)]"
            ]
          },
          "metadata": {},
          "execution_count": 38
        }
      ]
    },
    {
      "cell_type": "code",
      "execution_count": null,
      "metadata": {
        "id": "73kZfERkgi1L",
        "colab": {
          "base_uri": "https://localhost:8080/"
        },
        "outputId": "bf377563-7699-4b7c-e119-dc80f3ca9b3e"
      },
      "outputs": [
        {
          "output_type": "execute_result",
          "data": {
            "text/plain": [
              "OrderedDict([('weights', tensor([0.3367])), ('bias', tensor([0.1288]))])"
            ]
          },
          "metadata": {},
          "execution_count": 39
        }
      ],
      "source": [
        "# List named parameters\n",
        "model_0.state_dict()"
      ]
    },
    {
      "cell_type": "code",
      "source": [],
      "metadata": {
        "id": "5W7YrxQsUmT7"
      },
      "execution_count": null,
      "outputs": []
    },
    {
      "cell_type": "code",
      "source": [],
      "metadata": {
        "id": "ikq4KGJfShsS",
        "collapsed": true
      },
      "execution_count": null,
      "outputs": []
    },
    {
      "cell_type": "code",
      "source": [
        "def plot_predictions(train_data=X_train,\n",
        "                     train_labels=y_train,\n",
        "                     test_data=X_test,\n",
        "                     test_labels=y_test,\n",
        "                     predictions=None):\n",
        "  \"\"\"\n",
        "  Plots training data, test data and compares predictions.\n",
        "  \"\"\"\n",
        "  plt.figure(figsize=(10, 7))\n",
        "\n",
        "  # Plot training data in blue\n",
        "  plt.scatter(train_data, train_labels, c=\"b\", s=4, label=\"Training data\")\n",
        "\n",
        "  # Plot test data in green\n",
        "  plt.scatter(test_data, test_labels, c=\"g\", s=4, label=\"Testing data\")\n",
        "\n",
        "  if predictions is not None:\n",
        "    # Plot the predictions in red (predictions were made on the test data)\n",
        "    plt.scatter(test_data, predictions, c=\"r\", s=4, label=\"Predictions\")\n",
        "\n",
        "  # Show the legend\n",
        "  plt.legend(prop={\"size\": 14});"
      ],
      "metadata": {
        "id": "-2J84k_jDSt4"
      },
      "execution_count": null,
      "outputs": []
    },
    {
      "cell_type": "code",
      "source": [],
      "metadata": {
        "id": "4pdymw59kMsR"
      },
      "execution_count": null,
      "outputs": []
    },
    {
      "cell_type": "code",
      "source": [
        "# Make predictions with model\n",
        "with torch.inference_mode():\n",
        "    y_preds = model_0(X_test)\n",
        "\n",
        "# Note: in older PyTorch code you might also see torch.no_grad()\n",
        "# with torch.no_grad():\n",
        "#   y_preds = model_0(X_test)"
      ],
      "metadata": {
        "id": "SbdZbvwXS__c"
      },
      "execution_count": null,
      "outputs": []
    },
    {
      "cell_type": "code",
      "source": [
        "# Create the loss function\n",
        "loss_fn = nn.L1Loss() # MAE loss is same as L1Loss\n",
        "\n",
        "# Create the optimizer\n",
        "optimizer = torch.optim.SGD(params=model_0.parameters(), # parameters of target model to optimize\n",
        "                            lr=0.01) # learning rate (how much the optimizer should change parameters at each step, higher=more (less stable), lower=less (might take a long time))"
      ],
      "metadata": {
        "id": "I44QssI-kTUg"
      },
      "execution_count": null,
      "outputs": []
    },
    {
      "cell_type": "code",
      "source": [
        "import torch\n",
        "import numpy as np"
      ],
      "metadata": {
        "id": "3aSpLAoKKP0W"
      },
      "execution_count": null,
      "outputs": []
    },
    {
      "cell_type": "code",
      "source": [
        "X_train = torch.tensor([[1.0], [2.0], [3.0]], dtype=torch.float32)\n",
        "y_train = torch.tensor([2.0, 4.0, 6.0], dtype=torch.float32)\n",
        "\n",
        "# داده‌های تست\n",
        "X_test = torch.tensor([[4.0], [5.0]], dtype=torch.float32)\n",
        "y_test = torch.tensor([8.0, 10.0], dtype=torch.float32)\n",
        "\n",
        "\n"
      ],
      "metadata": {
        "id": "6mxFfToBZapx"
      },
      "execution_count": null,
      "outputs": []
    },
    {
      "cell_type": "code",
      "source": [
        "torch.manual_seed(42)\n",
        "\n",
        "# Set the number of epochs (how many times the model will pass over the training data)\n",
        "epochs = 100\n",
        "# تعریف تابع هزینه و بهینه‌ساز\n",
        "loss_fn = torch.nn.MSELoss()\n",
        "model_0 = torch.nn.Linear(1, 1)  # مدل ساده خطی\n",
        "optimizer = torch.optim.SGD(model_0.parameters(), lr=0.01)\n",
        "\n",
        "# ایجاد لیست‌های خالی برای مقادیر هزینه\n",
        "train_loss_values = []\n",
        "test_loss_values = []\n",
        "epoch_count = []\n",
        "\n",
        "for epoch in range(epochs):\n",
        "    ### Training\n",
        "\n",
        "    # Put model in training mode (this is the default state of a model)\n",
        "    model_0.train()\n",
        "\n",
        "    # 1. Forward pass on train data using the forward() method inside\n",
        "    #print(y_pred)\n",
        "    y_pred = model_0(X_train)\n",
        "    # 2. Calculate the loss (how different are our models predictions to the ground tru\n",
        "    loss = loss_fn(y_pred, y_train)\n",
        "    # 3. Zero grad of the optimizer\n",
        "    optimizer.zero_grad()\n",
        "\n",
        "    # 4. Loss backwards\n",
        "    loss.backward()\n",
        "\n",
        "    # 5. Progress the optimizer\n",
        "    optimizer.step()\n",
        "\n",
        "    ### Testing\n",
        "\n",
        "    # Put the model in evaluation mode\n",
        "    model_0.eval()\n",
        "\n",
        "    with torch.inference_mode():\n",
        "      # 1. Forward pass on test data\n",
        "      test_pred = model_0(X_test)\n",
        "\n",
        "      # 2. Caculate loss on test data\n",
        "      test_loss = loss_fn(test_pred, y_test.type(torch.float)) # predictions come in torch.float datatype, so comparisons need to be done with tensors of the same type\n",
        "\n",
        "      # Print out what's happening\n",
        "      if epoch % 10 == 0:\n",
        "            epoch_count.append(epoch)\n",
        "            train_loss_values.append(loss.detach().numpy())\n",
        "            test_loss_values.append(test_loss.detach().numpy())\n",
        "            print(f\"Epoch: {epoch} | MAE Train Loss: {loss} | MAE Test Loss: {test_loss} \")"
      ],
      "metadata": {
        "colab": {
          "base_uri": "https://localhost:8080/"
        },
        "id": "xZ2o2WJOLnTJ",
        "outputId": "7f4312b5-e257-4faf-a242-b254e43a8a5a"
      },
      "execution_count": null,
      "outputs": [
        {
          "output_type": "stream",
          "name": "stdout",
          "text": [
            "Epoch: 0 | MAE Train Loss: 5.748948574066162 | MAE Test Loss: 20.946195602416992 \n",
            "Epoch: 10 | MAE Train Loss: 4.022207736968994 | MAE Test Loss: 9.794206619262695 \n",
            "Epoch: 20 | MAE Train Loss: 3.8078765869140625 | MAE Test Loss: 7.52473258972168 \n",
            "Epoch: 30 | MAE Train Loss: 3.739901304244995 | MAE Test Loss: 7.098280429840088 \n",
            "Epoch: 40 | MAE Train Loss: 3.6880979537963867 | MAE Test Loss: 7.16611909866333 \n",
            "Epoch: 50 | MAE Train Loss: 3.6399645805358887 | MAE Test Loss: 7.383166313171387 \n",
            "Epoch: 60 | MAE Train Loss: 3.594210624694824 | MAE Test Loss: 7.647356033325195 \n",
            "Epoch: 70 | MAE Train Loss: 3.5506181716918945 | MAE Test Loss: 7.926736831665039 \n",
            "Epoch: 80 | MAE Train Loss: 3.5090761184692383 | MAE Test Loss: 8.210991859436035 \n",
            "Epoch: 90 | MAE Train Loss: 3.4694855213165283 | MAE Test Loss: 8.496637344360352 \n"
          ]
        },
        {
          "output_type": "stream",
          "name": "stderr",
          "text": [
            "/usr/local/lib/python3.10/dist-packages/torch/nn/modules/loss.py:535: UserWarning: Using a target size (torch.Size([3])) that is different to the input size (torch.Size([3, 1])). This will likely lead to incorrect results due to broadcasting. Please ensure they have the same size.\n",
            "  return F.mse_loss(input, target, reduction=self.reduction)\n",
            "/usr/local/lib/python3.10/dist-packages/torch/nn/modules/loss.py:535: UserWarning: Using a target size (torch.Size([2])) that is different to the input size (torch.Size([2, 1])). This will likely lead to incorrect results due to broadcasting. Please ensure they have the same size.\n",
            "  return F.mse_loss(input, target, reduction=self.reduction)\n"
          ]
        }
      ]
    },
    {
      "cell_type": "code",
      "source": [
        "# Plot the loss curves\n",
        "plt.plot(epoch_count, train_loss_values, label=\"Train loss\")\n",
        "plt.plot(epoch_count, test_loss_values, label=\"Test loss\")\n",
        "plt.title(\"Training and test loss curves\")\n",
        "plt.ylabel(\"Loss\")\n",
        "plt.xlabel(\"Epochs\")\n",
        "plt.legend();"
      ],
      "metadata": {
        "colab": {
          "base_uri": "https://localhost:8080/",
          "height": 472
        },
        "collapsed": true,
        "id": "9Lj2wK0QDzc1",
        "outputId": "6124a5d4-9e12-4f50-853a-ce2aad75cc9d"
      },
      "execution_count": null,
      "outputs": [
        {
          "output_type": "display_data",
          "data": {
            "text/plain": [
              "<Figure size 640x480 with 1 Axes>"
            ],
            "image/png": "[encoded data removed]"
          },
          "metadata": {}
        }
      ]
    },
    {
      "cell_type": "code",
      "source": [
        "# Find our model's learned parameters\n",
        "print(\"The model learned the following values for weights and bias:\")\n",
        "print(model_0.state_dict())\n",
        "print(\"\\nAnd the original values for weights and bias are:\")\n",
        "print(f\"weights: {weight}, bias: {bias}\")"
      ],
      "metadata": {
        "collapsed": true,
        "colab": {
          "base_uri": "https://localhost:8080/"
        },
        "id": "0srt3IlmD9x8",
        "outputId": "437e95c2-f4f1-4d2d-d68d-5f2c05b840a4"
      },
      "execution_count": null,
      "outputs": [
        {
          "output_type": "stream",
          "name": "stdout",
          "text": [
            "The model learned the following values for weights and bias:\n",
            "OrderedDict([('weight', tensor([[1.0159]])), ('bias', tensor([1.6906]))])\n",
            "\n",
            "And the original values for weights and bias are:\n",
            "weights: 0.7, bias: 0.3\n"
          ]
        }
      ]
    },
    {
      "cell_type": "code",
      "source": [
        "# 1. Set the model in evaluation mode\n",
        "model_0.eval()\n",
        "\n",
        "# 2. Setup the inference mode context manager\n",
        "with torch.inference_mode():\n",
        "  # 3. Make sure the calculations are done with the model and data on the same device\n",
        "  # in our case, we haven't setup device-agnostic code yet so our data and model are\n",
        "  # on the CPU by default.\n",
        "  # model_0.to(device)\n",
        "  # X_test = X_test.to(device)\n",
        "  y_preds = model_0(X_test)\n",
        "y_preds"
      ],
      "metadata": {
        "id": "VU6tq1TtEDQB",
        "colab": {
          "base_uri": "https://localhost:8080/"
        },
        "outputId": "ecf23d04-e03d-4572-e0dd-ffbe087bc10f"
      },
      "execution_count": null,
      "outputs": [
        {
          "output_type": "execute_result",
          "data": {
            "text/plain": [
              "tensor([[5.7542],\n",
              "        [6.7701]])"
            ]
          },
          "metadata": {},
          "execution_count": 48
        }
      ]
    },
    {
      "cell_type": "code",
      "source": [
        "# Check the predictions\n",
        "print(f\"Number of testing samples: {len(X_test)}\")\n",
        "print(f\"Number of predictions made: {len(y_preds)}\")\n",
        "print(f\"Predicted values:\\n{y_preds}\")"
      ],
      "metadata": {
        "id": "xGoZfSGkYBys",
        "colab": {
          "base_uri": "https://localhost:8080/"
        },
        "outputId": "bedd9c25-bb6b-4991-cc08-083753f1d8fe"
      },
      "execution_count": null,
      "outputs": [
        {
          "output_type": "stream",
          "name": "stdout",
          "text": [
            "Number of testing samples: 2\n",
            "Number of predictions made: 2\n",
            "Predicted values:\n",
            "tensor([[5.7542],\n",
            "        [6.7701]])\n"
          ]
        }
      ]
    },
    {
      "cell_type": "code",
      "source": [
        "import matplotlib.pyplot as plt\n",
        "import torch\n",
        "\n",
        "# تابع برای رسم پیش‌بینی‌ها\n",
        "def plot_predictions(train_data, train_labels, test_data, test_labels, predictions):\n",
        "    plt.figure(figsize=(10, 6))\n",
        "\n",
        "    # رسم داده‌های آموزشی\n",
        "    plt.scatter(train_data, train_labels, c='b', label='Training data')\n",
        "\n",
        "    # رسم داده‌های تست\n",
        "    plt.scatter(test_data, test_labels, c='g', label='Testing data')\n",
        "\n",
        "    # رسم پیش‌بینی‌ها\n",
        "    plt.scatter(test_data, predictions, c='r', label='Predictions')\n",
        "\n",
        "    plt.legend()\n",
        "    plt.show()\n",
        "\n",
        "# بررسی و تبدیل داده‌ها به numpy array در صورت نیاز\n",
        "def to_numpy(tensor):\n",
        "    if isinstance(tensor, torch.Tensor):\n",
        "        return tensor.numpy()\n",
        "    elif isinstance(tensor, np.ndarray):\n",
        "        return tensor\n",
        "    else:\n",
        "        raise TypeError(\"Input should be a torch.Tensor or numpy.ndarray\")\n",
        "\n",
        "# داده‌های آموزشی (فرض کنید که این‌ها از قبل به صورت numpy.ndarray یا torch.Tensor تعریف شده‌اند)\n",
        "X_train = np.array([[1.0], [2.0], [3.0]], dtype=np.float32)\n",
        "y_train = np.array([2.0, 4.0, 6.0], dtype=np.float32)\n",
        "\n",
        "# داده‌های تست\n",
        "X_test = np.array([[4.0], [5.0]], dtype=np.float32)\n",
        "y_test = np.array([8.0, 10.0], dtype=np.float32)\n",
        "\n",
        "# مدل شما (فرض کنید که مدل آموزش دیده است)\n",
        "model_0 = torch.nn.Linear(1, 1)  # مثال از یک مدل ساده\n",
        "model_0.eval()\n",
        "\n",
        "# تبدیل داده‌ها به تنسور PyTorch در صورت نیاز\n",
        "X_test_tensor = torch.tensor(X_test, dtype=torch.float32)\n",
        "\n",
        "# محاسبه پیش‌بینی‌ها\n",
        "with torch.no_grad():\n",
        "    y_preds = model_0(X_test_tensor).detach().numpy()\n",
        "\n",
        "# تبدیل داده‌ها به numpy array برای استفاده در matplotlib\n",
        "X_train_np = to_numpy(X_train)\n",
        "y_train_np = to_numpy(y_train)\n",
        "X_test_np = to_numpy(X_test)\n",
        "y_test_np = to_numpy(y_test)\n",
        "\n",
        "\n"
      ],
      "metadata": {
        "id": "VlwIYDurYjAY"
      },
      "execution_count": null,
      "outputs": []
    },
    {
      "cell_type": "code",
      "source": [
        "# فراخوانی تابع plot_predictions\n",
        "plot_predictions(train_data=X_train_np, train_labels=y_train_np,\n",
        "                 test_data=X_test_np, test_labels=y_test_np,\n",
        "                 predictions=y_preds)"
      ],
      "metadata": {
        "colab": {
          "base_uri": "https://localhost:8080/",
          "height": 522
        },
        "id": "dW7xWY-3YknF",
        "outputId": "94ff7938-17c2-41cb-9dea-43ac1175ef90"
      },
      "execution_count": null,
      "outputs": [
        {
          "output_type": "display_data",
          "data": {
            "text/plain": [
              "<Figure size 1000x600 with 1 Axes>"
            ],
            "image/png": "[encoded data removed]"
          },
          "metadata": {}
        }
      ]
    },
    {
      "cell_type": "code",
      "source": [
        "def plot_predictions(train_data=X_train,\n",
        "                     train_labels=y_train,\n",
        "                     test_data=X_test,\n",
        "                     test_labels=y_test,\n",
        "                     predictions=None):\n",
        "  \"\"\"\n",
        "  Plots training data, test data and compares predictions.\n",
        "  \"\"\"\n",
        "  plt.figure(figsize=(10, 7))\n",
        "\n",
        "  # Plot training data in blue\n",
        "  plt.scatter(train_data, train_labels, c=\"b\", s=4, label=\"Training data\")\n",
        "\n",
        "  # Plot test data in green\n",
        "  plt.scatter(test_data, test_labels, c=\"g\", s=4, label=\"Testing data\")\n",
        "\n",
        "  if predictions is not None:\n",
        "    # Plot the predictions in red (predictions were made on the test data)\n",
        "    plt.scatter(test_data, predictions, c=\"r\", s=4, label=\"Predictions\")\n",
        "\n",
        "  # Show the legend\n",
        "  plt.legend(prop={\"size\": 14});"
      ],
      "metadata": {
        "collapsed": true,
        "id": "nSdj1bfoEMMc"
      },
      "execution_count": null,
      "outputs": []
    },
    {
      "cell_type": "code",
      "source": [
        "plot_predictions();"
      ],
      "metadata": {
        "colab": {
          "base_uri": "https://localhost:8080/",
          "height": 599
        },
        "id": "KVI_tD_3gQkq",
        "outputId": "02e5e00f-38cf-46cc-f463-3c02b2646825"
      },
      "execution_count": null,
      "outputs": [
        {
          "output_type": "display_data",
          "data": {
            "text/plain": [
              "<Figure size 1000x700 with 1 Axes>"
            ],
            "image/png": "[encoded data removed]"
          },
          "metadata": {}
        }
      ]
    },
    {
      "cell_type": "code",
      "source": [
        "X_train = torch.tensor([[1.0], [2.0], [3.0]], dtype=torch.float32)\n",
        "y_train = torch.tensor([2.0, 4.0, 6.0], dtype=torch.float32)\n",
        "\n",
        "# داده‌های تست\n",
        "X_test = torch.tensor([[4.0], [5.0]], dtype=torch.float32)\n",
        "y_test = torch.tensor([8.0, 10.0], dtype=torch.float32)"
      ],
      "metadata": {
        "id": "BtsEG-6CpMiy"
      },
      "execution_count": null,
      "outputs": []
    },
    {
      "cell_type": "code",
      "source": [
        "# Make predictions with model\n",
        "with torch.inference_mode():\n",
        "    y_preds = model_0(X_test)\n",
        "\n",
        "# Note: in older PyTorch code you might also see torch.no_grad()\n",
        "# with torch.no_grad():\n",
        "#   y_preds = model_0(X_test)"
      ],
      "metadata": {
        "id": "KBC7FrkogS6I"
      },
      "execution_count": null,
      "outputs": []
    },
    {
      "cell_type": "code",
      "source": [
        "# Check the predictions\n",
        "print(f\"Number of testing samples: {len(X_test)}\")\n",
        "print(f\"Number of predictions made: {len(y_preds)}\")\n",
        "print(f\"Predicted values:\\n{y_preds}\")"
      ],
      "metadata": {
        "colab": {
          "base_uri": "https://localhost:8080/"
        },
        "id": "7k4uhvywguUR",
        "outputId": "4c0e9fcf-dd1c-4a09-b2cf-c2f8547f421d"
      },
      "execution_count": null,
      "outputs": [
        {
          "output_type": "stream",
          "name": "stdout",
          "text": [
            "Number of testing samples: 2\n",
            "Number of predictions made: 2\n",
            "Predicted values:\n",
            "tensor([[-0.0185],\n",
            "        [-0.2528]])\n"
          ]
        }
      ]
    },
    {
      "cell_type": "code",
      "source": [
        "plot_predictions(predictions=y_preds)"
      ],
      "metadata": {
        "colab": {
          "base_uri": "https://localhost:8080/",
          "height": 599
        },
        "id": "6tOoo1i4g1kV",
        "outputId": "5cc0721e-1e22-443f-f0ff-8dbf3c748fdd"
      },
      "execution_count": null,
      "outputs": [
        {
          "output_type": "display_data",
          "data": {
            "text/plain": [
              "<Figure size 1000x700 with 1 Axes>"
            ],
            "image/png": "[encoded data removed]"
          },
          "metadata": {}
        }
      ]
    },
    {
      "cell_type": "code",
      "source": [],
      "metadata": {
        "id": "68h0m2qShHCy"
      },
      "execution_count": null,
      "outputs": []
    },
    {
      "cell_type": "code",
      "source": [],
      "metadata": {
        "id": "agy8KlORhLLH"
      },
      "execution_count": null,
      "outputs": []
    }
  ],
  "metadata": {
    "colab": {
      "provenance": [],
      "authorship_tag": "ABX9TyP4H81ySKUKjOCbxdu6Dbw/",
      "include_colab_link": true
    },
    "kernelspec": {
      "display_name": "Python 3",
      "name": "python3"
    },
    "language_info": {
      "name": "python"
    }
  },
  "nbformat": 4,
  "nbformat_minor": 0
}